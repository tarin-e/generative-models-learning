{
 "cells": [
  {
   "cell_type": "code",
   "execution_count": 1,
   "metadata": {},
   "outputs": [
    {
     "name": "stdout",
     "output_type": "stream",
     "text": [
      "tensor([[0.3757, 0.2452, 0.1857],\n",
      "        [0.2197, 0.4684, 0.4873],\n",
      "        [0.5914, 0.1493, 0.4102],\n",
      "        [0.1530, 0.0120, 0.8302],\n",
      "        [0.4506, 0.7703, 0.9506]])\n"
     ]
    }
   ],
   "source": [
    "import torch\n",
    "x = torch.rand(5, 3)\n",
    "print(x)"
   ]
  },
  {
   "cell_type": "code",
   "execution_count": 13,
   "metadata": {},
   "outputs": [],
   "source": [
    "mnist_fashion_df = np.loadtxt('../data/mnist_fashion/fashion-mnist_train.csv', skiprows=1, delimiter=',')\n",
    "\n",
    "mnist_sneakers_df = mnist_fashion_df[mnist_fashion_df[:,0] == 7]\n",
    "mnist_labels_df = mnist_sneakers_df[:, 0] \n",
    "mnist_images_df = mnist_sneakers_df[:, 1:]"
   ]
  }
 ],
 "metadata": {
  "kernelspec": {
   "display_name": "Python 3",
   "language": "python",
   "name": "python3"
  },
  "language_info": {
   "codemirror_mode": {
    "name": "ipython",
    "version": 3
   },
   "file_extension": ".py",
   "mimetype": "text/x-python",
   "name": "python",
   "nbconvert_exporter": "python",
   "pygments_lexer": "ipython3",
   "version": "3.9.6"
  },
  "orig_nbformat": 4
 },
 "nbformat": 4,
 "nbformat_minor": 2
}
